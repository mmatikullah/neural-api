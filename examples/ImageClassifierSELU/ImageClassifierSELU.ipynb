{
  "nbformat": 4,
  "nbformat_minor": 0,
  "metadata": {
    "colab": {
      "name": "SimpleImageClassificationCPU.ipynb",
      "provenance": [],
      "collapsed_sections": []
    },
    "kernelspec": {
      "name": "python3",
      "display_name": "Python 3"
    }
  },
  "cells": [
    {
      "cell_type": "code",
      "metadata": {
        "id": "qAy5FJaX1dsa",
        "colab_type": "code",
        "outputId": "a2a1c7bf-b961-430e-b30f-2f4a99f44d73",
        "colab": {
          "base_uri": "https://localhost:8080/",
          "height": 221
        }
      },
      "source": [
        "!apt-get update"
      ],
      "execution_count": 42,
      "outputs": [
        {
          "output_type": "stream",
          "text": [
            "\r0% [Working]\r            \rHit:1 http://ppa.launchpad.net/graphics-drivers/ppa/ubuntu bionic InRelease\n",
            "\r0% [Connecting to archive.ubuntu.com (91.189.88.162)] [Connecting to security.u\r                                                                               \rHit:2 http://archive.ubuntu.com/ubuntu bionic InRelease\n",
            "\r0% [Connecting to archive.ubuntu.com (91.189.88.162)] [Connecting to security.u\r0% [1 InRelease gpgv 21.3 kB] [Connecting to archive.ubuntu.com (91.189.88.162)\r                                                                               \rHit:3 http://ppa.launchpad.net/marutter/c2d4u3.5/ubuntu bionic InRelease\n",
            "\r0% [1 InRelease gpgv 21.3 kB] [Connecting to archive.ubuntu.com (91.189.88.162)\r                                                                               \rHit:4 http://archive.ubuntu.com/ubuntu bionic-updates InRelease\n",
            "\r0% [1 InRelease gpgv 21.3 kB] [Connecting to security.ubuntu.com (91.189.91.26)\r                                                                               \rHit:5 https://cloud.r-project.org/bin/linux/ubuntu bionic-cran35/ InRelease\n",
            "\r0% [1 InRelease gpgv 21.3 kB] [Waiting for headers] [Connecting to security.ubu\r                                                                               \rHit:6 http://archive.ubuntu.com/ubuntu bionic-backports InRelease\n",
            "\r0% [1 InRelease gpgv 21.3 kB] [Connecting to security.ubuntu.com (91.189.91.26)\r                                                                               \rIgn:7 https://developer.download.nvidia.com/compute/cuda/repos/ubuntu1804/x86_64  InRelease\n",
            "\r                                                                               \r0% [1 InRelease gpgv 21.3 kB] [Waiting for headers] [Waiting for headers]\r                                                                         \rHit:8 http://security.ubuntu.com/ubuntu bionic-security InRelease\n",
            "\r                                                                         \r0% [1 InRelease gpgv 21.3 kB] [Waiting for headers]\r                                                   \r0% [Waiting for headers]\r0% [2 InRelease gpgv 242 kB] [Waiting for headers]\r                                                  \rIgn:9 https://developer.download.nvidia.com/compute/machine-learning/repos/ubuntu1804/x86_64  InRelease\n",
            "\r                                                  \r0% [2 InRelease gpgv 242 kB]\r                            \rHit:10 https://developer.download.nvidia.com/compute/cuda/repos/ubuntu1804/x86_64  Release\n",
            "Hit:11 https://developer.download.nvidia.com/compute/machine-learning/repos/ubuntu1804/x86_64  Release\n",
            "Reading package lists... Done\n"
          ],
          "name": "stdout"
        }
      ]
    },
    {
      "cell_type": "code",
      "metadata": {
        "id": "UHZcHLryCbir",
        "colab_type": "code",
        "outputId": "c09490c7-e182-4d8f-96a9-54fa3699b925",
        "colab": {
          "base_uri": "https://localhost:8080/",
          "height": 170
        }
      },
      "source": [
        "!apt-get install fpc fpc-source lazarus git subversion"
      ],
      "execution_count": 43,
      "outputs": [
        {
          "output_type": "stream",
          "text": [
            "Reading package lists... Done\n",
            "Building dependency tree       \n",
            "Reading state information... Done\n",
            "lazarus is already the newest version (1.8.2+dfsg-3).\n",
            "subversion is already the newest version (1.9.7-4ubuntu1).\n",
            "git is already the newest version (1:2.17.1-1ubuntu0.4).\n",
            "fpc is already the newest version (3.0.4+dfsg-18ubuntu2).\n",
            "fpc-source is already the newest version (3.0.4+dfsg-18ubuntu2).\n",
            "0 upgraded, 0 newly installed, 0 to remove and 36 not upgraded.\n"
          ],
          "name": "stdout"
        }
      ]
    },
    {
      "cell_type": "code",
      "metadata": {
        "id": "qhr-tY5c1o3J",
        "colab_type": "code",
        "outputId": "3b8b7e34-0043-40f1-b8fd-78cb34c1e121",
        "colab": {
          "base_uri": "https://localhost:8080/",
          "height": 136
        }
      },
      "source": [
        "!git clone https://github.com/joaopauloschuler/neural-api.git"
      ],
      "execution_count": 44,
      "outputs": [
        {
          "output_type": "stream",
          "text": [
            "Cloning into 'neural-api'...\n",
            "remote: Enumerating objects: 321, done.\u001b[K\n",
            "remote: Counting objects: 100% (321/321), done.\u001b[K\n",
            "remote: Compressing objects: 100% (231/231), done.\u001b[K\n",
            "remote: Total 615 (delta 189), reused 187 (delta 88), pack-reused 294\u001b[K\n",
            "Receiving objects: 100% (615/615), 1.14 MiB | 2.63 MiB/s, done.\n",
            "Resolving deltas: 100% (340/340), done.\n"
          ],
          "name": "stdout"
        }
      ]
    },
    {
      "cell_type": "code",
      "metadata": {
        "id": "8htgbUo9744q",
        "colab_type": "code",
        "outputId": "17850127-94c8-41e5-a400-7c12951dfc9b",
        "colab": {
          "base_uri": "https://localhost:8080/",
          "height": 34
        }
      },
      "source": [
        "!svn checkout https://svn.code.sf.net/p/lazarus-ccr/svn/components/multithreadprocs mtprocs"
      ],
      "execution_count": 45,
      "outputs": [
        {
          "output_type": "stream",
          "text": [
            "Checked out revision 7173.\n"
          ],
          "name": "stdout"
        }
      ]
    },
    {
      "cell_type": "code",
      "metadata": {
        "id": "NYDMPdbn7W9w",
        "colab_type": "code",
        "outputId": "12435ba9-a61d-4dc8-cd88-c8858aaf8241",
        "colab": {
          "base_uri": "https://localhost:8080/",
          "height": 51
        }
      },
      "source": [
        "!lazbuild mtprocs/multithreadprocslaz.lpk"
      ],
      "execution_count": 46,
      "outputs": [
        {
          "output_type": "stream",
          "text": [
            "Hint: (lazarus) [RunTool] /usr/bin/fpc \"-iWTOTP\"\n",
            "Hint: (lazarus) [RunTool] /usr/bin/fpc \"-va\" \"compilertest.pas\"\n"
          ],
          "name": "stdout"
        }
      ]
    },
    {
      "cell_type": "code",
      "metadata": {
        "id": "H_mKELt35Hym",
        "colab_type": "code",
        "outputId": "2f084157-501e-4aaf-ad80-c54718b2041c",
        "colab": {
          "base_uri": "https://localhost:8080/",
          "height": 34
        }
      },
      "source": [
        "!ls -l neural-api/examples/ImageClassifierSELU/ImageClassifierSELU.lpi"
      ],
      "execution_count": 47,
      "outputs": [
        {
          "output_type": "stream",
          "text": [
            "-rw-r--r-- 1 root root 5691 Oct 30 16:27 neural-api/examples/ImageClassifierSELU/ImageClassifierSELU.lpi\n"
          ],
          "name": "stdout"
        }
      ]
    },
    {
      "cell_type": "code",
      "metadata": {
        "id": "_Xye-mYy2UHP",
        "colab_type": "code",
        "outputId": "fce9fbc8-3c03-47e9-935a-a487158e6a2e",
        "colab": {
          "base_uri": "https://localhost:8080/",
          "height": 1000
        }
      },
      "source": [
        "!lazbuild neural-api/examples/ImageClassifierSELU/ImageClassifierSELU.lpi"
      ],
      "execution_count": 48,
      "outputs": [
        {
          "output_type": "stream",
          "text": [
            "Hint: (lazarus) [RunTool] /usr/bin/fpc \"-iWTOTP\"\n",
            "Hint: (lazarus) [RunTool] /usr/bin/fpc \"-va\" \"compilertest.pas\"\n",
            "TProject.DoLoadStateFile Statefile not found: /content/neural-api/bin/x86_64-linux/units/ImageClassifierSELU.compiled\n",
            "Hint: (lazarus) [RunTool] /usr/bin/fpc \"-iWTOTP\" \"-Px86_64\" \"-Tlinux\"\n",
            "Hint: (lazarus) [RunTool] /usr/bin/fpc \"-va\" \"-Px86_64\" \"-Tlinux\" \"compilertest.pas\"\n",
            "Info: (lazarus) Execute Title=\"Compile Project, Mode: Default, Target: /content/neural-api/bin/x86_64-linux/bin/ImageClassifierSELU\"\n",
            "Info: (lazarus) Working Directory=\"/content/neural-api/examples/ImageClassifierSELU/\"\n",
            "Info: (lazarus) Executable=\"/usr/bin/fpc\"\n",
            "Info: (lazarus) Param[0]=\"-B\"\n",
            "Info: (lazarus) Param[1]=\"-MObjFPC\"\n",
            "Info: (lazarus) Param[2]=\"-Scghi\"\n",
            "Info: (lazarus) Param[3]=\"-Cg\"\n",
            "Info: (lazarus) Param[4]=\"-O3\"\n",
            "Info: (lazarus) Param[5]=\"-l\"\n",
            "Info: (lazarus) Param[6]=\"-vewnhibq\"\n",
            "Info: (lazarus) Param[7]=\"-Fi/content/neural-api/neural\"\n",
            "Info: (lazarus) Param[8]=\"-Fi/content/neural-api/bin/x86_64-linux/units\"\n",
            "Info: (lazarus) Param[9]=\"-Fu/content/neural-api/neural\"\n",
            "Info: (lazarus) Param[10]=\"-Fu/usr/lib/lazarus/1.8.2/lcl/units/x86_64-linux\"\n",
            "Info: (lazarus) Param[11]=\"-Fu/usr/lib/lazarus/1.8.2/components/lazutils/lib/x86_64-linux\"\n",
            "Info: (lazarus) Param[12]=\"-Fu/content/mtprocs/lib/x86_64-linux\"\n",
            "Info: (lazarus) Param[13]=\"-Fu/usr/lib/lazarus/1.8.2/packager/units/x86_64-linux\"\n",
            "Info: (lazarus) Param[14]=\"-Fu/content/neural-api/examples/ImageClassifierSELU/\"\n",
            "Info: (lazarus) Param[15]=\"-FU/content/neural-api/bin/x86_64-linux/units/\"\n",
            "Info: (lazarus) Param[16]=\"-FE/content/neural-api/bin/x86_64-linux/bin/\"\n",
            "Info: (lazarus) Param[17]=\"-dUseCThreads\"\n",
            "Info: (lazarus) Param[18]=\"-dAVX\"\n",
            "Info: (lazarus) Param[19]=\"-dRelease\"\n",
            "Info: (lazarus) Param[20]=\"ImageClassifierSELU.lpr\"\n",
            "Hint: (11030) Start of reading config file /etc/fpc.cfg\n",
            "Compiling Release Version\n",
            "Hint: (11031) End of reading config file /etc/fpc.cfg\n",
            "Free Pascal Compiler version 3.0.4+dfsg-18ubuntu2 [2018/08/29] for x86_64\n",
            "Copyright (c) 1993-2017 by Florian Klaempfl and others\n",
            "(1002) Target OS: Linux for x86-64\n",
            "(3104) Compiling ImageClassifierSELU.lpr\n",
            "(3104) Compiling /content/neural-api/neural/neuralnetwork.pas\n",
            "(3104) Compiling /content/neural-api/neural/neuralvolume.pas\n",
            "/content/neural-api/neural/neuralnetwork.inc(29,4) Warning: (2010) Misplaced global compiler switch, ignored\n",
            "/content/neural-api/neural/neuralnetwork.inc(33,4) Warning: (2010) Misplaced global compiler switch, ignored\n",
            "(3104) Compiling /content/neural-api/neural/neuralbit.pas\n",
            "/content/neural-api/neural/neuralbit.pas(161,4) Hint: (3123) \"open array\" not yet supported inside inline procedure/function\n",
            "/content/neural-api/neural/neuralbit.pas(161,4) Hint: (3124) Inlining disabled\n",
            "/content/neural-api/neural/neuralbit.pas(172,4) Hint: (3123) \"open array\" not yet supported inside inline procedure/function\n",
            "/content/neural-api/neural/neuralbit.pas(172,4) Hint: (3124) Inlining disabled\n",
            "/content/neural-api/neural/neuralbit.pas(180,4) Hint: (3123) \"open array\" not yet supported inside inline procedure/function\n",
            "/content/neural-api/neural/neuralbit.pas(180,4) Hint: (3124) Inlining disabled\n",
            "/content/neural-api/neural/neuralbit.pas(214,4) Hint: (3123) \"open array\" not yet supported inside inline procedure/function\n",
            "/content/neural-api/neural/neuralbit.pas(214,4) Hint: (3124) Inlining disabled\n",
            "/content/neural-api/neural/neuralbit.pas(721,19) Hint: (5058) Variable \"VARS\" does not seem to be initialized\n",
            "/content/neural-api/neural/neuralvolume.pas(524,31) Hint: (5024) Parameter \"x\" not used\n",
            "/content/neural-api/neural/neuralvolume.pas(1938,37) Hint: (5058) Variable \"V\" does not seem to be initialized\n",
            "/content/neural-api/neural/neuralvolume.pas(367,43) Hint: (5024) Parameter \"S\" not used\n",
            "/content/neural-api/neural/neuralvolume.pas(2130,19) Hint: (5058) Variable \"pInput\" does not seem to be initialized\n",
            "/content/neural-api/neural/neuralvolume.pas(2136,21) Hint: (5058) Variable \"Original\" does not seem to be initialized\n",
            "/content/neural-api/neural/neuralvolume.pas(2154,27) Hint: (5058) Variable \"Original\" does not seem to be initialized\n",
            "/content/neural-api/neural/neuralvolume.pas(2948,16) Hint: (5058) Variable \"Original\" does not seem to be initialized\n",
            "/content/neural-api/neural/neuralvolume.pas(4292,3) Note: (5027) Local variable \"version\" is assigned but never used\n",
            "Hint: (3123) \"inherited\" not yet supported inside inline procedure/function\n",
            "Hint: (3124) Inlining disabled\n",
            "Hint: (3123) \"inherited\" not yet supported inside inline procedure/function\n",
            "Hint: (3124) Inlining disabled\n",
            "Hint: (3123) \"inherited\" not yet supported inside inline procedure/function\n",
            "Hint: (3124) Inlining disabled\n",
            "Hint: (3123) \"inherited\" not yet supported inside inline procedure/function\n",
            "Hint: (3124) Inlining disabled\n",
            "Hint: (3123) \"inherited\" not yet supported inside inline procedure/function\n",
            "Hint: (3124) Inlining disabled\n",
            "Hint: (3123) \"inherited\" not yet supported inside inline procedure/function\n",
            "Hint: (3124) Inlining disabled\n",
            "Hint: (3123) \"inherited\" not yet supported inside inline procedure/function\n",
            "Hint: (3124) Inlining disabled\n",
            "Hint: (3123) \"inherited\" not yet supported inside inline procedure/function\n",
            "Hint: (3124) Inlining disabled\n",
            "Hint: (3123) \"inherited\" not yet supported inside inline procedure/function\n",
            "Hint: (3124) Inlining disabled\n",
            "Hint: (3123) \"inherited\" not yet supported inside inline procedure/function\n",
            "Hint: (3124) Inlining disabled\n",
            "Hint: (3123) \"inherited\" not yet supported inside inline procedure/function\n",
            "Hint: (3124) Inlining disabled\n",
            "Hint: (3123) \"inherited\" not yet supported inside inline procedure/function\n",
            "Hint: (3124) Inlining disabled\n",
            "Hint: (3123) \"inherited\" not yet supported inside inline procedure/function\n",
            "Hint: (3124) Inlining disabled\n",
            "Hint: (3123) \"inherited\" not yet supported inside inline procedure/function\n",
            "Hint: (3124) Inlining disabled\n",
            "Hint: (3123) \"inherited\" not yet supported inside inline procedure/function\n",
            "Hint: (3124) Inlining disabled\n",
            "Hint: (3123) \"inherited\" not yet supported inside inline procedure/function\n",
            "Hint: (3124) Inlining disabled\n",
            "Hint: (3123) \"inherited\" not yet supported inside inline procedure/function\n",
            "Hint: (3124) Inlining disabled\n",
            "Hint: (3123) \"inherited\" not yet supported inside inline procedure/function\n",
            "Hint: (3124) Inlining disabled\n",
            "/content/neural-api/neural/neuralnetwork.pas(4622,3) Note: (5027) Local variable \"Len\" is assigned but never used\n",
            "/content/neural-api/neural/neuralnetwork.pas(6707,65) Warning: (5089) Local variable \"aL\" of a managed type does not seem to be initialized\n",
            "/content/neural-api/neural/neuralnetwork.pas(6708,77) Warning: (5089) Local variable \"aIdx\" of a managed type does not seem to be initialized\n",
            "/content/neural-api/neural/neuralnetwork.pas(7164,4) Hint: (3123) \"open array\" not yet supported inside inline procedure/function\n",
            "/content/neural-api/neural/neuralnetwork.pas(7164,4) Hint: (3124) Inlining disabled\n",
            "/content/neural-api/neural/neuralnetwork.pas(7214,4) Hint: (3123) \"open array\" not yet supported inside inline procedure/function\n",
            "/content/neural-api/neural/neuralnetwork.pas(7214,4) Hint: (3124) Inlining disabled\n",
            "/content/neural-api/neural/neuralnetwork.pas(7777,4) Hint: (3123) \"open array\" not yet supported inside inline procedure/function\n",
            "/content/neural-api/neural/neuralnetwork.pas(7777,4) Hint: (3124) Inlining disabled\n",
            "Hint: (3123) \"inherited\" not yet supported inside inline procedure/function\n",
            "Hint: (3124) Inlining disabled\n",
            "Hint: (3123) \"inherited\" not yet supported inside inline procedure/function\n",
            "Hint: (3124) Inlining disabled\n",
            "Hint: (3123) \"inherited\" not yet supported inside inline procedure/function\n",
            "Hint: (3124) Inlining disabled\n",
            "Hint: (3123) \"inherited\" not yet supported inside inline procedure/function\n",
            "Hint: (3124) Inlining disabled\n",
            "Hint: (3123) \"inherited\" not yet supported inside inline procedure/function\n",
            "Hint: (3124) Inlining disabled\n",
            "Hint: (3123) \"inherited\" not yet supported inside inline procedure/function\n",
            "Hint: (3124) Inlining disabled\n",
            "Hint: (3123) \"inherited\" not yet supported inside inline procedure/function\n",
            "Hint: (3124) Inlining disabled\n",
            "Hint: (3123) \"inherited\" not yet supported inside inline procedure/function\n",
            "Hint: (3124) Inlining disabled\n",
            "Hint: (3123) \"inherited\" not yet supported inside inline procedure/function\n",
            "Hint: (3124) Inlining disabled\n",
            "Hint: (3123) \"inherited\" not yet supported inside inline procedure/function\n",
            "Hint: (3124) Inlining disabled\n",
            "Hint: (3123) \"inherited\" not yet supported inside inline procedure/function\n",
            "Hint: (3124) Inlining disabled\n",
            "Hint: (3123) \"inherited\" not yet supported inside inline procedure/function\n",
            "Hint: (3124) Inlining disabled\n",
            "Hint: (3123) \"inherited\" not yet supported inside inline procedure/function\n",
            "Hint: (3124) Inlining disabled\n",
            "Hint: (3123) \"inherited\" not yet supported inside inline procedure/function\n",
            "Hint: (3124) Inlining disabled\n",
            "Hint: (3123) \"inherited\" not yet supported inside inline procedure/function\n",
            "Hint: (3124) Inlining disabled\n",
            "Hint: (3123) \"inherited\" not yet supported inside inline procedure/function\n",
            "Hint: (3124) Inlining disabled\n",
            "Hint: (3123) \"inherited\" not yet supported inside inline procedure/function\n",
            "Hint: (3124) Inlining disabled\n",
            "Hint: (3123) \"inherited\" not yet supported inside inline procedure/function\n",
            "Hint: (3124) Inlining disabled\n",
            "Hint: (3123) \"inherited\" not yet supported inside inline procedure/function\n",
            "Hint: (3124) Inlining disabled\n",
            "Hint: (3123) \"inherited\" not yet supported inside inline procedure/function\n",
            "Hint: (3124) Inlining disabled\n",
            "Hint: (3123) \"inherited\" not yet supported inside inline procedure/function\n",
            "Hint: (3124) Inlining disabled\n",
            "Hint: (3123) \"inherited\" not yet supported inside inline procedure/function\n",
            "Hint: (3124) Inlining disabled\n",
            "Hint: (3123) \"inherited\" not yet supported inside inline procedure/function\n",
            "Hint: (3124) Inlining disabled\n",
            "Hint: (3123) \"inherited\" not yet supported inside inline procedure/function\n",
            "Hint: (3124) Inlining disabled\n",
            "Hint: (3123) \"inherited\" not yet supported inside inline procedure/function\n",
            "Hint: (3124) Inlining disabled\n",
            "Hint: (3123) \"inherited\" not yet supported inside inline procedure/function\n",
            "Hint: (3124) Inlining disabled\n",
            "Hint: (3123) \"inherited\" not yet supported inside inline procedure/function\n",
            "Hint: (3124) Inlining disabled\n",
            "/content/neural-api/neural/neuralnetwork.pas(81,28) Hint: (5023) Unit \"syncobjs\" not used in neuralnetwork\n",
            "(3104) Compiling /content/neural-api/neural/neuraldatasets.pas\n",
            "(3104) Compiling /content/neural-api/neural/neuralfit.pas\n",
            "/content/neural-api/neural/neuralfit.pas(153,32) Hint: (5024) Parameter \"Idx\" not used\n",
            "/content/neural-api/neural/neuralfit.pas(135,44) Hint: (5024) Parameter \"Data\" not used\n",
            "/content/neural-api/neural/neuralfit.pas(136,9) Hint: (5024) Parameter \"Item\" not used\n",
            "/content/neural-api/neural/neuralfit.pas(137,45) Hint: (5024) Parameter \"Data\" not used\n",
            "/content/neural-api/neural/neuralfit.pas(138,9) Hint: (5024) Parameter \"Item\" not used\n",
            "/content/neural-api/neural/neuralfit.pas(185,44) Hint: (5024) Parameter \"Data\" not used\n",
            "/content/neural-api/neural/neuralfit.pas(186,9) Hint: (5024) Parameter \"Item\" not used\n",
            "/content/neural-api/neural/neuralfit.pas(187,45) Hint: (5024) Parameter \"Data\" not used\n",
            "/content/neural-api/neural/neuralfit.pas(188,9) Hint: (5024) Parameter \"Item\" not used\n",
            "/usr/bin/ld.bfd: warning: /content/neural-api/bin/x86_64-linux/bin/link.res contains output sections; did you forget -T?\n",
            "/content/neural-api/examples/ImageClassifierSELU/ImageClassifierSELU.lpr(10,60) Hint: (5023) Unit \"math\" not used in ImageClassifierSELU\n",
            "(9015) Linking /content/neural-api/bin/x86_64-linux/bin/ImageClassifierSELU\n",
            "(1008) 23058 lines compiled, 1.2 sec\n",
            "(1021) 4 warning(s) issued\n",
            "(1022) 125 hint(s) issued\n",
            "(1023) 2 note(s) issued\n"
          ],
          "name": "stdout"
        }
      ]
    },
    {
      "cell_type": "code",
      "metadata": {
        "id": "7xWWg1E1P2pm",
        "colab_type": "code",
        "outputId": "6d8c2629-6320-489e-fc53-48bb3f23e72e",
        "colab": {
          "base_uri": "https://localhost:8080/",
          "height": 34
        }
      },
      "source": [
        "ls -l neural-api/bin/x86_64-linux/bin/ImageClassifierSELU"
      ],
      "execution_count": 49,
      "outputs": [
        {
          "output_type": "stream",
          "text": [
            "-rwxr-xr-x 1 root root 1179736 Oct 30 16:27 \u001b[0m\u001b[01;32mneural-api/bin/x86_64-linux/bin/ImageClassifierSELU\u001b[0m*\n"
          ],
          "name": "stdout"
        }
      ]
    },
    {
      "cell_type": "code",
      "metadata": {
        "id": "WBxvm6S4-FtJ",
        "colab_type": "code",
        "colab": {}
      },
      "source": [
        "import os\n",
        "import urllib.request\n",
        "\n",
        "if not os.path.isfile('cifar-10-batches-bin/data_batch_1.bin'):\n",
        "  print(\"Downloading CIFAR-10 Files\")\n",
        "  url = 'https://www.cs.toronto.edu/~kriz/cifar-10-binary.tar.gz'\n",
        "  urllib.request.urlretrieve(url, './file.tar')"
      ],
      "execution_count": 0,
      "outputs": []
    },
    {
      "cell_type": "code",
      "metadata": {
        "id": "SpfaXVrrKgd0",
        "colab_type": "code",
        "outputId": "51573689-ca4f-481a-8db0-2e8889be9a2b",
        "colab": {
          "base_uri": "https://localhost:8080/",
          "height": 306
        }
      },
      "source": [
        "ls -l"
      ],
      "execution_count": 51,
      "outputs": [
        {
          "output_type": "stream",
          "text": [
            "total 348484\n",
            "-rw-r--r-- 1 root root        61 Oct 30 10:29 batches.meta.txt\n",
            "drwxr-xr-x 2 2156 1103      4096 Jun  4  2009 \u001b[0m\u001b[01;34mcifar-10-batches-bin\u001b[0m/\n",
            "-rw-r--r-- 1 root root  30730000 Oct 30 10:29 data_batch_1.bin\n",
            "-rw-r--r-- 1 root root  30730000 Oct 30 10:29 data_batch_2.bin\n",
            "-rw-r--r-- 1 root root  30730000 Oct 30 10:29 data_batch_3.bin\n",
            "-rw-r--r-- 1 root root  30730000 Oct 30 10:29 data_batch_4.bin\n",
            "-rw-r--r-- 1 root root  30730000 Oct 30 10:29 data_batch_5.bin\n",
            "-rw-r--r-- 1 root root 170052171 Oct 30 10:29 file.tar\n",
            "-rw-r--r-- 1 root root      2877 Oct 30 16:20 ImageClassifierSELU.csv\n",
            "-rw-r--r-- 1 root root   2370015 Oct 30 16:15 ImageClassifierSELU.nn\n",
            "drwxr-xr-x 5 root root      4096 Oct 30 10:28 \u001b[01;34mmtprocs\u001b[0m/\n",
            "drwxr-xr-x 7 root root      4096 Oct 30 16:27 \u001b[01;34mneural-api\u001b[0m/\n",
            "-rw-r--r-- 1 root root        88 Oct 30 10:29 readme.html\n",
            "drwxr-xr-x 1 root root      4096 Oct 25 16:58 \u001b[01;34msample_data\u001b[0m/\n",
            "-rw-r--r-- 1 root root         0 Oct 30 10:29 SimpleImageClassifier.csv\n",
            "-rw-r--r-- 1 root root  30730000 Oct 30 10:29 test_batch.bin\n"
          ],
          "name": "stdout"
        }
      ]
    },
    {
      "cell_type": "code",
      "metadata": {
        "id": "doqZbQkqKy9I",
        "colab_type": "code",
        "outputId": "a2e8f2ed-5e15-46f7-c100-38bb1e4a7824",
        "colab": {
          "base_uri": "https://localhost:8080/",
          "height": 170
        }
      },
      "source": [
        "!tar -xvf ./file.tar"
      ],
      "execution_count": 52,
      "outputs": [
        {
          "output_type": "stream",
          "text": [
            "cifar-10-batches-bin/\n",
            "cifar-10-batches-bin/data_batch_1.bin\n",
            "cifar-10-batches-bin/batches.meta.txt\n",
            "cifar-10-batches-bin/data_batch_3.bin\n",
            "cifar-10-batches-bin/data_batch_4.bin\n",
            "cifar-10-batches-bin/test_batch.bin\n",
            "cifar-10-batches-bin/readme.html\n",
            "cifar-10-batches-bin/data_batch_5.bin\n",
            "cifar-10-batches-bin/data_batch_2.bin\n"
          ],
          "name": "stdout"
        }
      ]
    },
    {
      "cell_type": "code",
      "metadata": {
        "id": "VWB54wU5B1I9",
        "colab_type": "code",
        "colab": {}
      },
      "source": [
        "if not os.path.isfile('./data_batch_1.bin'):\n",
        "  print(\"Copying files to current folder\")\n",
        "  !cp ./cifar-10-batches-bin/* ./"
      ],
      "execution_count": 0,
      "outputs": []
    },
    {
      "cell_type": "code",
      "metadata": {
        "id": "X5bpFXiaC_PY",
        "colab_type": "code",
        "outputId": "69275d1e-5137-4588-be60-c6ad8a83b67f",
        "colab": {
          "base_uri": "https://localhost:8080/",
          "height": 1000
        }
      },
      "source": [
        "if os.path.isfile('./data_batch_1.bin'):\n",
        "  print(\"RUNNING!\")\n",
        "  !neural-api/bin/x86_64-linux/bin/ImageClassifierSELU"
      ],
      "execution_count": 0,
      "outputs": [
        {
          "output_type": "stream",
          "text": [
            "RUNNING!\n",
            "Creating Neural Network...\n",
            "Loading 10K images from file \"data_batch_1.bin\" ... GLOBAL MIN MAX  -2.0000  1.9844 -2.0000  1.9844 -2.0000  1.9844 Done.\n",
            "Loading 10K images from file \"data_batch_2.bin\" ... GLOBAL MIN MAX  -2.0000  1.9844 -2.0000  1.9844 -2.0000  1.9844 Done.\n",
            "Loading 10K images from file \"data_batch_3.bin\" ... GLOBAL MIN MAX  -2.0000  1.9844 -2.0000  1.9844 -2.0000  1.9844 Done.\n",
            "Loading 10K images from file \"data_batch_4.bin\" ... GLOBAL MIN MAX  -2.0000  1.9844 -2.0000  1.9844 -2.0000  1.9844 Done.\n",
            "Loading 10K images from file \"data_batch_5.bin\" ... GLOBAL MIN MAX  -2.0000  1.9844 -2.0000  1.9844 -2.0000  1.9844 Done.\n",
            "Loading 10K images from file \"test_batch.bin\" ... GLOBAL MIN MAX  -2.0000  1.9844 -2.0000  1.9844 -2.0000  1.9844 Done.\n",
            "Layer  0                                                     Max Output:  0.000 Min Output:  0.000 TNNetInput 32,32,3 Times: 0.00s 0.00s\n",
            "Layer  1 Neurons: 64 Max Weight:   0.200 Min Weight:  -0.200 Max Output:  0.000 Min Output:  0.000 TNNetConvolutionLinear 32,32,64 Times: 0.00s 0.00s Parent:0\n",
            "Layer  2                                                     Max Output:  0.000 Min Output:  0.000 TNNetMaxPool 8,8,64 Times: 0.00s 0.00s Parent:1\n",
            "Layer  3                                                     Max Output:  0.000 Min Output:  0.000 TNNetSELU 8,8,64 Times: 0.00s 0.00s Parent:2\n",
            "Layer  4 Neurons:  1 Max Weight:   1.000 Min Weight:   0.000 Max Output:  0.000 Min Output:  0.000 TNNetMovingStdNormalization 8,8,64 Times: 0.00s 0.00s Parent:3\n",
            "Layer  5 Neurons: 64 Max Weight:   0.072 Min Weight:  -0.072 Max Output:  0.000 Min Output:  0.000 TNNetConvolutionLinear 8,8,64 Times: 0.00s 0.00s Parent:4\n",
            "Layer  6                                                     Max Output:  0.000 Min Output:  0.000 TNNetSELU 8,8,64 Times: 0.00s 0.00s Parent:5\n",
            "Layer  7 Neurons: 64 Max Weight:   0.072 Min Weight:  -0.072 Max Output:  0.000 Min Output:  0.000 TNNetConvolutionLinear 8,8,64 Times: 0.00s 0.00s Parent:6\n",
            "Layer  8                                                     Max Output:  0.000 Min Output:  0.000 TNNetSELU 8,8,64 Times: 0.00s 0.00s Parent:7\n",
            "Layer  9 Neurons: 64 Max Weight:   0.072 Min Weight:  -0.072 Max Output:  0.000 Min Output:  0.000 TNNetConvolutionLinear 8,8,64 Times: 0.00s 0.00s Parent:8\n",
            "Layer 10                                                     Max Output:  0.000 Min Output:  0.000 TNNetSELU 8,8,64 Times: 0.00s 0.00s Parent:9\n",
            "Layer 11 Neurons: 64 Max Weight:   0.072 Min Weight:  -0.072 Max Output:  0.000 Min Output:  0.000 TNNetConvolutionLinear 8,8,64 Times: 0.00s 0.00s Parent:10\n",
            "Layer 12                                                     Max Output:  0.000 Min Output:  0.000 TNNetDropout 8,8,64 Times: 0.00s 0.00s Parent:11\n",
            "Layer 13                                                     Max Output:  0.000 Min Output:  0.000 TNNetMaxPool 4,4,64 Times: 0.00s 0.00s Parent:12\n",
            "Layer 14                                                     Max Output:  0.000 Min Output:  0.000 TNNetSELU 4,4,64 Times: 0.00s 0.00s Parent:13\n",
            "Layer 15 Neurons: 10 Max Weight:   0.076 Min Weight:  -0.076 Max Output:  0.000 Min Output:  0.000 TNNetFullConnectLinear 10,1,1 Times: 0.00s 0.00s Parent:14\n",
            "Layer 16                                                     Max Output:  0.000 Min Output:  0.000 TNNetSoftMax 10,1,1 Times: 0.00s 0.00s Parent:15\n",
            "File name is: ImageClassifierSELU\n",
            "Learning rate:0.001000 L2 decay:0.000010 Inertia:0.900000 Batch size:64 Step size:64 Staircase ephocs:10\n",
            "Training images:40000\n",
            "Validation images:10000\n",
            "Test images:10000\n",
            "Computing...\n",
            "640 Examples seen. Accuracy:0.1032 Error:   1.72812 Loss:2.20942 Threads: 2 Forward time:  0.90s Backward time:  0.95s Step time:  3.81s\n",
            "1280 Examples seen. Accuracy:0.1135 Error:   1.67057 Loss:2.15208 Threads: 2 Forward time:  0.89s Backward time:  0.98s Step time:  3.83s\n",
            "1920 Examples seen. Accuracy:0.1253 Error:   1.59517 Loss:2.08015 Threads: 2 Forward time:  0.88s Backward time:  0.95s Step time:  3.77s\n",
            "2560 Examples seen. Accuracy:0.1396 Error:   1.49278 Loss:1.99574 Threads: 2 Forward time:  0.90s Backward time:  0.95s Step time:  3.77s\n",
            "3200 Examples seen. Accuracy:0.1524 Error:   1.64862 Loss:2.02573 Threads: 2 Forward time:  0.91s Backward time:  0.96s Step time:  3.89s\n",
            "3840 Examples seen. Accuracy:0.1657 Error:   1.54901 Loss:1.97238 Threads: 2 Forward time:  0.87s Backward time:  0.98s Step time:  3.79s\n",
            "4480 Examples seen. Accuracy:0.1808 Error:   1.50891 Loss:1.93753 Threads: 2 Forward time:  0.88s Backward time:  0.96s Step time:  3.82s\n",
            "5120 Examples seen. Accuracy:0.1911 Error:   1.54821 Loss:1.88257 Threads: 2 Forward time:  0.87s Backward time:  0.92s Step time:  3.66s\n",
            "5760 Examples seen. Accuracy:0.2027 Error:   1.53906 Loss:1.91560 Threads: 2 Forward time:  0.86s Backward time:  0.93s Step time:  3.67s\n",
            "6400 Examples seen. Accuracy:0.2162 Error:   1.52537 Loss:1.71526 Threads: 2 Forward time:  0.86s Backward time:  0.95s Step time:  3.68s\n",
            "7040 Examples seen. Accuracy:0.2289 Error:   1.42311 Loss:1.66969 Threads: 2 Forward time:  0.86s Backward time:  0.94s Step time:  3.66s\n",
            "7680 Examples seen. Accuracy:0.2388 Error:   1.53086 Loss:1.82413 Threads: 2 Forward time:  0.87s Backward time:  0.92s Step time:  3.67s\n",
            "8320 Examples seen. Accuracy:0.2472 Error:   1.52708 Loss:1.81248 Threads: 2 Forward time:  0.89s Backward time:  0.92s Step time:  3.69s\n",
            "8960 Examples seen. Accuracy:0.2555 Error:   1.39345 Loss:1.53915 Threads: 2 Forward time:  0.86s Backward time:  0.95s Step time:  3.66s\n",
            "9600 Examples seen. Accuracy:0.2638 Error:   1.48234 Loss:1.72059 Threads: 2 Forward time:  0.86s Backward time:  0.91s Step time:  3.62s\n",
            "10240 Examples seen. Accuracy:0.2725 Error:   1.46277 Loss:1.84275 Threads: 2 Forward time:  0.85s Backward time:  0.93s Step time:  3.64s\n",
            "10880 Examples seen. Accuracy:0.2826 Error:   1.28583 Loss:1.60268 Threads: 2 Forward time:  0.85s Backward time:  0.94s Step time:  3.63s\n",
            "11520 Examples seen. Accuracy:0.2897 Error:   1.38414 Loss:1.55123 Threads: 2 Forward time:  0.86s Backward time:  0.92s Step time:  3.63s\n",
            "12160 Examples seen. Accuracy:0.2990 Error:   1.38404 Loss:1.54673 Threads: 2 Forward time:  0.86s Backward time:  0.91s Step time:  3.63s\n",
            "12800 Examples seen. Accuracy:0.3041 Error:   1.42453 Loss:1.87662 Threads: 2 Forward time:  0.87s Backward time:  0.92s Step time:  3.62s\n",
            "13440 Examples seen. Accuracy:0.3122 Error:   1.50280 Loss:1.73798 Threads: 2 Forward time:  0.89s Backward time:  0.89s Step time:  3.65s\n",
            "14080 Examples seen. Accuracy:0.3204 Error:   1.47705 Loss:1.78378 Threads: 2 Forward time:  0.86s Backward time:  0.93s Step time:  3.65s\n",
            "14720 Examples seen. Accuracy:0.3300 Error:   1.31194 Loss:1.48010 Threads: 2 Forward time:  0.87s Backward time:  0.93s Step time:  3.62s\n",
            "15360 Examples seen. Accuracy:0.3357 Error:   1.47341 Loss:1.79635 Threads: 2 Forward time:  0.92s Backward time:  0.95s Step time:  3.64s\n",
            "16000 Examples seen. Accuracy:0.3422 Error:   1.47987 Loss:1.80150 Threads: 2 Forward time:  0.88s Backward time:  0.92s Step time:  3.63s\n",
            "16640 Examples seen. Accuracy:0.3453 Error:   1.45852 Loss:1.82169 Threads: 2 Forward time:  0.86s Backward time:  0.93s Step time:  3.62s\n",
            "17280 Examples seen. Accuracy:0.3511 Error:   1.41595 Loss:1.80293 Threads: 2 Forward time:  0.86s Backward time:  0.91s Step time:  3.64s\n",
            "17920 Examples seen. Accuracy:0.3603 Error:   1.23065 Loss:1.48497 Threads: 2 Forward time:  0.86s Backward time:  0.91s Step time:  3.61s\n",
            "18560 Examples seen. Accuracy:0.3644 Error:   1.38053 Loss:1.73264 Threads: 2 Forward time:  0.85s Backward time:  0.94s Step time:  3.62s\n",
            "19200 Examples seen. Accuracy:0.3708 Error:   1.38397 Loss:1.68667 Threads: 2 Forward time:  0.89s Backward time:  0.91s Step time:  3.67s\n",
            "19840 Examples seen. Accuracy:0.3766 Error:   1.34219 Loss:1.54169 Threads: 2 Forward time:  0.85s Backward time:  0.93s Step time:  3.61s\n",
            "20480 Examples seen. Accuracy:0.3810 Error:   1.43483 Loss:1.73890 Threads: 2 Forward time:  0.86s Backward time:  0.92s Step time:  3.64s\n",
            "21120 Examples seen. Accuracy:0.3852 Error:   1.38340 Loss:1.70080 Threads: 2 Forward time:  0.88s Backward time:  0.98s Step time:  3.74s\n",
            "21760 Examples seen. Accuracy:0.3866 Error:   1.38693 Loss:1.48907 Threads: 2 Forward time:  0.89s Backward time:  0.96s Step time:  3.76s\n",
            "22400 Examples seen. Accuracy:0.3875 Error:   1.45616 Loss:1.94580 Threads: 2 Forward time:  0.89s Backward time:  0.97s Step time:  3.76s\n",
            "23040 Examples seen. Accuracy:0.3888 Error:   1.45378 Loss:1.75518 Threads: 2 Forward time:  0.89s Backward time:  0.96s Step time:  3.79s\n",
            "23680 Examples seen. Accuracy:0.3942 Error:   1.31936 Loss:1.58645 Threads: 2 Forward time:  0.89s Backward time:  0.97s Step time:  3.77s\n",
            "24320 Examples seen. Accuracy:0.3990 Error:   1.31715 Loss:1.53555 Threads: 2 Forward time:  0.89s Backward time:  0.96s Step time:  3.75s\n",
            "24960 Examples seen. Accuracy:0.4021 Error:   1.27759 Loss:1.42767 Threads: 2 Forward time:  0.88s Backward time:  0.98s Step time:  3.78s\n",
            "25600 Examples seen. Accuracy:0.4039 Error:   1.36394 Loss:1.66595 Threads: 2 Forward time:  0.88s Backward time:  0.98s Step time:  3.78s\n",
            "26240 Examples seen. Accuracy:0.4078 Error:   1.31547 Loss:1.52634 Threads: 2 Forward time:  0.89s Backward time:  0.98s Step time:  3.75s\n",
            "26880 Examples seen. Accuracy:0.4122 Error:   1.28932 Loss:1.48434 Threads: 2 Forward time:  0.89s Backward time:  0.98s Step time:  3.78s\n",
            "27520 Examples seen. Accuracy:0.4160 Error:   1.21628 Loss:1.27439 Threads: 2 Forward time:  0.87s Backward time:  0.94s Step time:  3.76s\n",
            "28160 Examples seen. Accuracy:0.4210 Error:   1.32238 Loss:1.47568 Threads: 2 Forward time:  0.90s Backward time:  0.97s Step time:  3.79s\n",
            "28800 Examples seen. Accuracy:0.4203 Error:   1.40315 Loss:1.77445 Threads: 2 Forward time:  0.89s Backward time:  0.95s Step time:  3.79s\n",
            "29440 Examples seen. Accuracy:0.4253 Error:   1.17597 Loss:1.44976 Threads: 2 Forward time:  0.93s Backward time:  0.93s Step time:  3.81s\n",
            "30080 Examples seen. Accuracy:0.4269 Error:   1.36918 Loss:1.60695 Threads: 2 Forward time:  0.89s Backward time:  0.94s Step time:  3.80s\n",
            "30720 Examples seen. Accuracy:0.4298 Error:   1.32957 Loss:1.58299 Threads: 2 Forward time:  0.90s Backward time:  0.96s Step time:  3.78s\n",
            "31360 Examples seen. Accuracy:0.4313 Error:   1.37921 Loss:1.75653 Threads: 2 Forward time:  0.88s Backward time:  0.97s Step time:  3.76s\n",
            "32000 Examples seen. Accuracy:0.4319 Error:   1.40782 Loss:1.73212 Threads: 2 Forward time:  0.88s Backward time:  0.97s Step time:  3.81s\n",
            "32640 Examples seen. Accuracy:0.4347 Error:   1.08728 Loss:1.27457 Threads: 2 Forward time:  0.88s Backward time:  0.96s Step time:  3.74s\n",
            "33280 Examples seen. Accuracy:0.4333 Error:   1.40921 Loss:1.67424 Threads: 2 Forward time:  0.89s Backward time:  0.95s Step time:  3.73s\n"
          ],
          "name": "stdout"
        }
      ]
    },
    {
      "cell_type": "code",
      "metadata": {
        "id": "gx8P5ODRCC3e",
        "colab_type": "code",
        "colab": {}
      },
      "source": [
        "from google.colab import files"
      ],
      "execution_count": 0,
      "outputs": []
    },
    {
      "cell_type": "code",
      "metadata": {
        "id": "aZ4Tp6D6Pqq6",
        "colab_type": "code",
        "colab": {}
      },
      "source": [
        "files.download('ImageClassifierSELU.nn')"
      ],
      "execution_count": 0,
      "outputs": []
    },
    {
      "cell_type": "code",
      "metadata": {
        "id": "zHtuMFPQLsYf",
        "colab_type": "code",
        "colab": {}
      },
      "source": [
        "files.download('ImageClassifierSELU.csv')"
      ],
      "execution_count": 0,
      "outputs": []
    }
  ]
}